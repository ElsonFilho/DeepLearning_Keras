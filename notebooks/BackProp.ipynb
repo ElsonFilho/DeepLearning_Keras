{
  "nbformat": 4,
  "nbformat_minor": 0,
  "metadata": {
    "colab": {
      "provenance": [],
      "authorship_tag": "ABX9TyMre2U7EdHpvmbY8wqJrhAh"
    },
    "kernelspec": {
      "name": "python3",
      "display_name": "Python 3"
    },
    "language_info": {
      "name": "python"
    }
  },
  "cells": [
    {
      "cell_type": "markdown",
      "source": [
        "# BackPropagation"
      ],
      "metadata": {
        "id": "C1R7nLR80em6"
      }
    },
    {
      "cell_type": "markdown",
      "source": [
        "Backpropagation is the key algorithm used for training neural networks, allowing them to learn from data. It is based on the gradient descent optimization technique and works by iteratively adjusting the weights and biases of the network to minimize the error between the predicted and actual outputs.\n",
        "\n",
        "In this notebook, we create a neural network to implement backpropagation for the XOR problem."
      ],
      "metadata": {
        "id": "Ko4-F0ZL0nRU"
      }
    },
    {
      "cell_type": "code",
      "execution_count": 1,
      "metadata": {
        "id": "efOHGEoD0dk3"
      },
      "outputs": [],
      "source": [
        "# Import the required libraries\n",
        "\n",
        "import numpy as np\n",
        "import matplotlib.pyplot as plt"
      ]
    },
    {
      "cell_type": "code",
      "source": [
        "# Define the input and expected output for a XOR gate problem\n",
        "\n",
        "X = np.array([[0, 0], [0, 1], [1, 0], [1, 1]]).T  # 2x4 matrix, each column is a training example\n",
        "d = np.array([0, 1, 1, 0])  # Expected output for XOR"
      ],
      "metadata": {
        "id": "kRY3IhZp046j"
      },
      "execution_count": 2,
      "outputs": []
    },
    {
      "cell_type": "code",
      "source": [
        "# Network parameters\n",
        "\n",
        "inputSize = 2     # Number of input neurons (x1, x2)\n",
        "hiddenSize = 2    # Number of hidden neurons\n",
        "outputSize = 1    # Number of output neurons\n",
        "lr = 0.1          # Learning rate\n",
        "epochs = 180000   # Number of training epochs"
      ],
      "metadata": {
        "id": "95JDKF7X1QtD"
      },
      "execution_count": 3,
      "outputs": []
    },
    {
      "cell_type": "code",
      "source": [
        "# Initialize weights and biases randomly within the range [-1, 1]\n",
        "\n",
        "w1 = np.random.rand(hiddenSize, inputSize) * 2 - 1   # Weights from input to hidden layer\n",
        "b1 = np.random.rand(hiddenSize, 1) * 2 - 1           # Bias for hidden layer\n",
        "w2 = np.random.rand(outputSize, hiddenSize) * 2 - 1  # Weights from hidden to output layer\n",
        "b2 = np.random.rand(outputSize, 1) * 2 - 1           # Bias for output layer"
      ],
      "metadata": {
        "id": "OEpByx2i11Rp"
      },
      "execution_count": 4,
      "outputs": []
    },
    {
      "cell_type": "code",
      "source": [
        "# Training the network using backpropagation\n",
        "\n",
        "error_list = []\n",
        "for epoch in range(epochs):\n",
        "    # Forward pass\n",
        "    z1 = np.dot(w1, X) + b1  # Weighted sum for hidden layer\n",
        "    a1 = 1 / (1 + np.exp(-z1))  # Sigmoid activation for hidden layer\n",
        "\n",
        "    z2 = np.dot(w2, a1) + b2  # Weighted sum for output layer\n",
        "    a2 = 1 / (1 + np.exp(-z2))  # Sigmoid activation for output layer\n",
        "\n",
        "    # Error calculation and backpropagation\n",
        "    error = d - a2  # Difference between expected and actual output\n",
        "    da2 = error * (a2 * (1 - a2))  # Derivative for output layer\n",
        "    dz2 = da2  # Gradient for output layer\n",
        "\n",
        "    # Propagate error to hidden layer\n",
        "    da1 = np.dot(w2.T, dz2)  # Gradient for hidden layer\n",
        "    dz1 = da1 * (a1 * (1 - a1))  # Derivative for hidden layer\n",
        "\n",
        "    # Update weights and biases\n",
        "    w2 += lr * np.dot(dz2, a1.T)  # Update weights from hidden to output layer\n",
        "    b2 += lr * np.sum(dz2, axis=1, keepdims=True)  # Update bias for output layer\n",
        "\n",
        "    w1 += lr * np.dot(dz1, X.T)  # Update weights from input to hidden layer\n",
        "    b1 += lr * np.sum(dz1, axis=1, keepdims=True)  # Update bias for hidden layer\n",
        "    if (epoch+1)%10000 == 0:\n",
        "        print(\"Epoch: %d, Average error: %0.05f\"%(epoch, np.average(abs(error))))\n",
        "        error_list.append(np.average(abs(error)))"
      ],
      "metadata": {
        "colab": {
          "base_uri": "https://localhost:8080/"
        },
        "id": "pUTBolmh2AE_",
        "outputId": "1c7a4aec-348f-447c-8def-754099cd002b"
      },
      "execution_count": 5,
      "outputs": [
        {
          "output_type": "stream",
          "name": "stdout",
          "text": [
            "Epoch: 9999, Average error: 0.06618\n",
            "Epoch: 19999, Average error: 0.03290\n",
            "Epoch: 29999, Average error: 0.02447\n",
            "Epoch: 39999, Average error: 0.02025\n",
            "Epoch: 49999, Average error: 0.01763\n",
            "Epoch: 59999, Average error: 0.01580\n",
            "Epoch: 69999, Average error: 0.01443\n",
            "Epoch: 79999, Average error: 0.01336\n",
            "Epoch: 89999, Average error: 0.01250\n",
            "Epoch: 99999, Average error: 0.01178\n",
            "Epoch: 109999, Average error: 0.01117\n",
            "Epoch: 119999, Average error: 0.01064\n",
            "Epoch: 129999, Average error: 0.01018\n",
            "Epoch: 139999, Average error: 0.00977\n",
            "Epoch: 149999, Average error: 0.00941\n",
            "Epoch: 159999, Average error: 0.00909\n",
            "Epoch: 169999, Average error: 0.00880\n",
            "Epoch: 179999, Average error: 0.00853\n"
          ]
        }
      ]
    },
    {
      "cell_type": "code",
      "source": [
        "# Testing the trained network\n",
        "z1 = np.dot(w1, X) + b1  # Weighted sum for hidden layer\n",
        "a1 = 1 / (1 + np.exp(-z1))  # Sigmoid activation for hidden layer\n",
        "\n",
        "z2 = np.dot(w2, a1) + b2  # Weighted sum for output layer\n",
        "a2 = 1 / (1 + np.exp(-z2))  # Sigmoid activation for output layer\n",
        "\n",
        "# Print results\n",
        "print('Final output after training:', a2)\n",
        "print('Ground truth', d)\n",
        "print('Error after training:', error)\n",
        "print('Average error: %0.05f'%np.average(abs(error)))"
      ],
      "metadata": {
        "colab": {
          "base_uri": "https://localhost:8080/"
        },
        "id": "bzHMx4DO2HBB",
        "outputId": "df5428e6-ea81-4bb4-c117-14e7f5bdf5b6"
      },
      "execution_count": 6,
      "outputs": [
        {
          "output_type": "stream",
          "name": "stdout",
          "text": [
            "Final output after training: [[0.00784727 0.99185068 0.99186327 0.0099798 ]]\n",
            "Ground truth [0 1 1 0]\n",
            "Error after training: [[-0.00784729  0.00814934  0.00813675 -0.00997983]]\n",
            "Average error: 0.00853\n"
          ]
        }
      ]
    },
    {
      "cell_type": "code",
      "source": [
        "# Plot error\n",
        "\n",
        "plt.plot(error_list)\n",
        "plt.title('Error')\n",
        "plt.xlabel('Epochs')\n",
        "plt.ylabel('Error')\n",
        "plt.show()"
      ],
      "metadata": {
        "colab": {
          "base_uri": "https://localhost:8080/",
          "height": 472
        },
        "id": "3lnSR_CJ2L9T",
        "outputId": "65043f18-32af-4bdf-d37a-43358760fd05"
      },
      "execution_count": 7,
      "outputs": [
        {
          "output_type": "display_data",
          "data": {
            "text/plain": [
              "<Figure size 640x480 with 1 Axes>"
            ],
            "image/png": "[encoded data removed]"
          },
          "metadata": {}
        }
      ]
    }
  ]
}