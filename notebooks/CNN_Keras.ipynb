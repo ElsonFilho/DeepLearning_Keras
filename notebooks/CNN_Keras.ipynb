{
  "nbformat": 4,
  "nbformat_minor": 0,
  "metadata": {
    "colab": {
      "provenance": [],
      "authorship_tag": "ABX9TyNtKOSAV1Qgfk1EWdFSW6CF"
    },
    "kernelspec": {
      "name": "python3",
      "display_name": "Python 3"
    },
    "language_info": {
      "name": "python"
    }
  },
  "cells": [
    {
      "cell_type": "markdown",
      "source": [
        "# Convolutional Neural Networks with Keras"
      ],
      "metadata": {
        "id": "5fWxZLHn0WOW"
      }
    },
    {
      "cell_type": "code",
      "execution_count": 1,
      "metadata": {
        "id": "-mBBB-nB0TBv"
      },
      "outputs": [],
      "source": [
        "## Import Keras and Packages\n",
        "\n",
        "import keras\n",
        "from keras.models import Sequential\n",
        "from keras.layers import Dense\n",
        "from keras.layers import Input\n",
        "from keras.utils import to_categorical\n",
        "\n",
        "from keras.layers import Conv2D # to add convolutional layers\n",
        "from keras.layers import MaxPooling2D # to add pooling layers\n",
        "from keras.layers import Flatten # to flatten data for fully connected layers\n",
        "\n",
        "import pandas as pd\n",
        "import seaborn as sns\n",
        "import matplotlib.pyplot as plt"
      ]
    },
    {
      "cell_type": "markdown",
      "source": [
        "## DATA"
      ],
      "metadata": {
        "id": "dsmSP6fM0-XY"
      }
    },
    {
      "cell_type": "code",
      "source": [
        "# Import data\n",
        "from keras.datasets import mnist\n",
        "\n",
        "# Load data\n",
        "(X_train, y_train), (X_test, y_test) = mnist.load_data()\n",
        "\n",
        "# Reshape to be [samples][pixels][width][height]\n",
        "X_train = X_train.reshape(X_train.shape[0], 28, 28, 1).astype('float32')\n",
        "X_test = X_test.reshape(X_test.shape[0], 28, 28, 1).astype('float32')"
      ],
      "metadata": {
        "id": "nK0Qku7w1A-o"
      },
      "execution_count": 2,
      "outputs": []
    },
    {
      "cell_type": "code",
      "source": [
        "# Normalize the pixel values to be between 0 and 1\n",
        "\n",
        "X_train = X_train / 255 # normalize training data\n",
        "X_test = X_test / 255 # normalize test data"
      ],
      "metadata": {
        "id": "kw6_Wzwm1Spv"
      },
      "execution_count": 3,
      "outputs": []
    },
    {
      "cell_type": "code",
      "source": [
        "# Convert the target variable into binary categories\n",
        "\n",
        "y_train = to_categorical(y_train)\n",
        "y_test = to_categorical(y_test)\n",
        "\n",
        "num_classes = y_test.shape[1] # number of categories"
      ],
      "metadata": {
        "id": "_DhN9wfs1knV"
      },
      "execution_count": 4,
      "outputs": []
    },
    {
      "cell_type": "markdown",
      "source": [
        "## Convolutional Neural Network with One Set of Convolutional and Pooling Layers"
      ],
      "metadata": {
        "id": "1ij33S_D024c"
      }
    },
    {
      "cell_type": "code",
      "source": [
        "# A function to create our model\n",
        "\n",
        "def convolutional_model():\n",
        "\n",
        "    # create model\n",
        "    model = Sequential()\n",
        "    model.add(Input(shape=(28, 28, 1)))\n",
        "    model.add(Conv2D(16, (5, 5), strides=(1, 1), activation='relu'))\n",
        "    model.add(MaxPooling2D(pool_size=(2, 2), strides=(2, 2)))\n",
        "\n",
        "    model.add(Flatten())\n",
        "    model.add(Dense(100, activation='relu'))\n",
        "    model.add(Dense(num_classes, activation='softmax'))\n",
        "\n",
        "    # compile model\n",
        "    model.compile(optimizer='adam', loss='categorical_crossentropy',  metrics=['accuracy'])\n",
        "    return model"
      ],
      "metadata": {
        "id": "3sym3MGk02YT"
      },
      "execution_count": 5,
      "outputs": []
    },
    {
      "cell_type": "code",
      "source": [
        "# Create the model, train it and evaluate it.\n",
        "\n",
        "# build the model\n",
        "model = convolutional_model()\n",
        "\n",
        "# fit the model\n",
        "model.fit(X_train, y_train, validation_data=(X_test, y_test), epochs=10, batch_size=200, verbose=2)\n",
        "\n",
        "# evaluate the model\n",
        "scoresA = model.evaluate(X_test, y_test, verbose=0)\n",
        "print(\"Accuracy: {} \\n Error: {}\".format(scoresA[1], 100-scoresA[1]*100))"
      ],
      "metadata": {
        "colab": {
          "base_uri": "https://localhost:8080/"
        },
        "id": "BsqxoWhZ16EB",
        "outputId": "1fc3de8a-715a-421a-e2b2-088dfbf35288"
      },
      "execution_count": 6,
      "outputs": [
        {
          "output_type": "stream",
          "name": "stdout",
          "text": [
            "Epoch 1/10\n",
            "300/300 - 13s - 44ms/step - accuracy: 0.9230 - loss: 0.2837 - val_accuracy: 0.9673 - val_loss: 0.1051\n",
            "Epoch 2/10\n",
            "300/300 - 20s - 67ms/step - accuracy: 0.9746 - loss: 0.0875 - val_accuracy: 0.9791 - val_loss: 0.0665\n",
            "Epoch 3/10\n",
            "300/300 - 12s - 40ms/step - accuracy: 0.9822 - loss: 0.0606 - val_accuracy: 0.9828 - val_loss: 0.0539\n",
            "Epoch 4/10\n",
            "300/300 - 12s - 41ms/step - accuracy: 0.9860 - loss: 0.0464 - val_accuracy: 0.9834 - val_loss: 0.0503\n",
            "Epoch 5/10\n",
            "300/300 - 12s - 40ms/step - accuracy: 0.9887 - loss: 0.0373 - val_accuracy: 0.9848 - val_loss: 0.0465\n",
            "Epoch 6/10\n",
            "300/300 - 12s - 40ms/step - accuracy: 0.9901 - loss: 0.0321 - val_accuracy: 0.9861 - val_loss: 0.0441\n",
            "Epoch 7/10\n",
            "300/300 - 13s - 43ms/step - accuracy: 0.9919 - loss: 0.0259 - val_accuracy: 0.9864 - val_loss: 0.0405\n",
            "Epoch 8/10\n",
            "300/300 - 19s - 65ms/step - accuracy: 0.9933 - loss: 0.0217 - val_accuracy: 0.9859 - val_loss: 0.0435\n",
            "Epoch 9/10\n",
            "300/300 - 12s - 40ms/step - accuracy: 0.9945 - loss: 0.0177 - val_accuracy: 0.9875 - val_loss: 0.0420\n",
            "Epoch 10/10\n",
            "300/300 - 12s - 40ms/step - accuracy: 0.9955 - loss: 0.0144 - val_accuracy: 0.9876 - val_loss: 0.0395\n",
            "Accuracy: 0.9876000285148621 \n",
            " Error: 1.239997148513794\n"
          ]
        }
      ]
    },
    {
      "cell_type": "markdown",
      "source": [
        "## Convolutional Neural Network with Two Sets of Convolutional and Pooling Layers"
      ],
      "metadata": {
        "id": "aNYcMxGa2XQT"
      }
    },
    {
      "cell_type": "code",
      "source": [
        "def convolutional_model():\n",
        "\n",
        "    # create model\n",
        "    model = Sequential()\n",
        "    model.add(Input(shape=(28, 28, 1)))\n",
        "    model.add(Conv2D(16, (5, 5), activation='relu'))\n",
        "    model.add(MaxPooling2D(pool_size=(2, 2), strides=(2, 2)))\n",
        "\n",
        "    model.add(Conv2D(8, (2, 2), activation='relu'))\n",
        "    model.add(MaxPooling2D(pool_size=(2, 2), strides=(2, 2)))\n",
        "\n",
        "    model.add(Flatten())\n",
        "    model.add(Dense(100, activation='relu'))\n",
        "    model.add(Dense(num_classes, activation='softmax'))\n",
        "\n",
        "    # Compile model\n",
        "    model.compile(optimizer='adam', loss='categorical_crossentropy',  metrics=['accuracy'])\n",
        "    return model"
      ],
      "metadata": {
        "id": "C1hPf47i2VEX"
      },
      "execution_count": 7,
      "outputs": []
    },
    {
      "cell_type": "code",
      "source": [
        "# build the model\n",
        "model = convolutional_model()\n",
        "\n",
        "# fit the model\n",
        "model.fit(X_train, y_train, validation_data=(X_test, y_test), epochs=10, batch_size=200, verbose=2)\n",
        "\n",
        "# evaluate the model\n",
        "scoresB = model.evaluate(X_test, y_test, verbose=0)\n",
        "print(\"Accuracy: {} \\n Error: {}\".format(scoresB[1], 100-scoresB[1]*100))"
      ],
      "metadata": {
        "colab": {
          "base_uri": "https://localhost:8080/"
        },
        "id": "dO5tLXG_2kHF",
        "outputId": "e40a25c5-93a8-4383-dd7b-dbe4da221482"
      },
      "execution_count": 8,
      "outputs": [
        {
          "output_type": "stream",
          "name": "stdout",
          "text": [
            "Epoch 1/10\n",
            "300/300 - 14s - 47ms/step - accuracy: 0.8644 - loss: 0.4683 - val_accuracy: 0.9596 - val_loss: 0.1310\n",
            "Epoch 2/10\n",
            "300/300 - 14s - 47ms/step - accuracy: 0.9648 - loss: 0.1150 - val_accuracy: 0.9729 - val_loss: 0.0809\n",
            "Epoch 3/10\n",
            "300/300 - 19s - 63ms/step - accuracy: 0.9747 - loss: 0.0821 - val_accuracy: 0.9783 - val_loss: 0.0697\n",
            "Epoch 4/10\n",
            "300/300 - 20s - 68ms/step - accuracy: 0.9797 - loss: 0.0665 - val_accuracy: 0.9801 - val_loss: 0.0604\n",
            "Epoch 5/10\n",
            "300/300 - 21s - 69ms/step - accuracy: 0.9832 - loss: 0.0558 - val_accuracy: 0.9831 - val_loss: 0.0492\n",
            "Epoch 6/10\n",
            "300/300 - 12s - 41ms/step - accuracy: 0.9852 - loss: 0.0491 - val_accuracy: 0.9841 - val_loss: 0.0534\n",
            "Epoch 7/10\n",
            "300/300 - 12s - 41ms/step - accuracy: 0.9866 - loss: 0.0439 - val_accuracy: 0.9851 - val_loss: 0.0463\n",
            "Epoch 8/10\n",
            "300/300 - 21s - 69ms/step - accuracy: 0.9871 - loss: 0.0403 - val_accuracy: 0.9870 - val_loss: 0.0389\n",
            "Epoch 9/10\n",
            "300/300 - 12s - 41ms/step - accuracy: 0.9886 - loss: 0.0373 - val_accuracy: 0.9855 - val_loss: 0.0419\n",
            "Epoch 10/10\n",
            "300/300 - 20s - 68ms/step - accuracy: 0.9899 - loss: 0.0333 - val_accuracy: 0.9854 - val_loss: 0.0417\n",
            "Accuracy: 0.9854000210762024 \n",
            " Error: 1.4599978923797607\n"
          ]
        }
      ]
    },
    {
      "cell_type": "code",
      "source": [
        "# Changing batch size\n",
        "\n",
        "# build the model\n",
        "model = convolutional_model()\n",
        "\n",
        "# fit the model\n",
        "model.fit(X_train, y_train, validation_data=(X_test, y_test), epochs=10, batch_size=1024, verbose=2)\n",
        "\n",
        "# evaluate the model\n",
        "scoresC = model.evaluate(X_test, y_test, verbose=0)\n",
        "print(\"Accuracy: {} \\n Error: {}\".format(scoresC[1], 100-scoresC[1]*100))"
      ],
      "metadata": {
        "colab": {
          "base_uri": "https://localhost:8080/"
        },
        "id": "kU-us07Y3QF1",
        "outputId": "cd71bd1a-c8af-4c4b-d74e-5d74d98edffc"
      },
      "execution_count": 9,
      "outputs": [
        {
          "output_type": "stream",
          "name": "stdout",
          "text": [
            "Epoch 1/10\n",
            "59/59 - 14s - 237ms/step - accuracy: 0.6432 - loss: 1.3537 - val_accuracy: 0.8734 - val_loss: 0.4563\n",
            "Epoch 2/10\n",
            "59/59 - 20s - 343ms/step - accuracy: 0.8998 - loss: 0.3464 - val_accuracy: 0.9291 - val_loss: 0.2533\n",
            "Epoch 3/10\n",
            "59/59 - 12s - 211ms/step - accuracy: 0.9361 - loss: 0.2214 - val_accuracy: 0.9512 - val_loss: 0.1716\n",
            "Epoch 4/10\n",
            "59/59 - 21s - 348ms/step - accuracy: 0.9510 - loss: 0.1662 - val_accuracy: 0.9593 - val_loss: 0.1380\n",
            "Epoch 5/10\n",
            "59/59 - 20s - 346ms/step - accuracy: 0.9609 - loss: 0.1341 - val_accuracy: 0.9646 - val_loss: 0.1217\n",
            "Epoch 6/10\n",
            "59/59 - 21s - 348ms/step - accuracy: 0.9661 - loss: 0.1149 - val_accuracy: 0.9699 - val_loss: 0.0983\n",
            "Epoch 7/10\n",
            "59/59 - 20s - 346ms/step - accuracy: 0.9698 - loss: 0.1008 - val_accuracy: 0.9733 - val_loss: 0.0870\n",
            "Epoch 8/10\n",
            "59/59 - 20s - 347ms/step - accuracy: 0.9733 - loss: 0.0897 - val_accuracy: 0.9758 - val_loss: 0.0770\n",
            "Epoch 9/10\n",
            "59/59 - 12s - 211ms/step - accuracy: 0.9754 - loss: 0.0808 - val_accuracy: 0.9778 - val_loss: 0.0695\n",
            "Epoch 10/10\n",
            "59/59 - 13s - 222ms/step - accuracy: 0.9775 - loss: 0.0750 - val_accuracy: 0.9770 - val_loss: 0.0701\n",
            "Accuracy: 0.9769999980926514 \n",
            " Error: 2.3000001907348633\n"
          ]
        }
      ]
    },
    {
      "cell_type": "code",
      "source": [
        "# Changing number of epochs\n",
        "\n",
        "# build the model\n",
        "model = convolutional_model()\n",
        "\n",
        "# fit the model\n",
        "model.fit(X_train, y_train, validation_data=(X_test, y_test), epochs=25, batch_size=1024, verbose=2)\n",
        "\n",
        "# evaluate the model\n",
        "scoresD = model.evaluate(X_test, y_test, verbose=0)\n",
        "print(\"Accuracy: {} \\n Error: {}\".format(scoresD[1], 100-scoresD[1]*100))"
      ],
      "metadata": {
        "colab": {
          "base_uri": "https://localhost:8080/"
        },
        "id": "fE-0AkQ93Zgu",
        "outputId": "84060d49-c083-4ce8-9f6d-d54fa4ccb255"
      },
      "execution_count": 10,
      "outputs": [
        {
          "output_type": "stream",
          "name": "stdout",
          "text": [
            "Epoch 1/25\n",
            "59/59 - 14s - 234ms/step - accuracy: 0.6722 - loss: 1.2355 - val_accuracy: 0.9019 - val_loss: 0.3535\n",
            "Epoch 2/25\n",
            "59/59 - 20s - 338ms/step - accuracy: 0.9244 - loss: 0.2627 - val_accuracy: 0.9464 - val_loss: 0.1797\n",
            "Epoch 3/25\n",
            "59/59 - 20s - 346ms/step - accuracy: 0.9512 - loss: 0.1690 - val_accuracy: 0.9602 - val_loss: 0.1306\n",
            "Epoch 4/25\n",
            "59/59 - 21s - 348ms/step - accuracy: 0.9611 - loss: 0.1310 - val_accuracy: 0.9703 - val_loss: 0.1024\n",
            "Epoch 5/25\n",
            "59/59 - 24s - 398ms/step - accuracy: 0.9678 - loss: 0.1082 - val_accuracy: 0.9744 - val_loss: 0.0854\n",
            "Epoch 6/25\n",
            "59/59 - 18s - 308ms/step - accuracy: 0.9722 - loss: 0.0936 - val_accuracy: 0.9776 - val_loss: 0.0739\n",
            "Epoch 7/25\n",
            "59/59 - 12s - 208ms/step - accuracy: 0.9749 - loss: 0.0829 - val_accuracy: 0.9792 - val_loss: 0.0684\n",
            "Epoch 8/25\n",
            "59/59 - 21s - 352ms/step - accuracy: 0.9781 - loss: 0.0742 - val_accuracy: 0.9808 - val_loss: 0.0610\n",
            "Epoch 9/25\n",
            "59/59 - 20s - 342ms/step - accuracy: 0.9803 - loss: 0.0673 - val_accuracy: 0.9815 - val_loss: 0.0575\n",
            "Epoch 10/25\n",
            "59/59 - 21s - 348ms/step - accuracy: 0.9815 - loss: 0.0629 - val_accuracy: 0.9835 - val_loss: 0.0536\n",
            "Epoch 11/25\n",
            "59/59 - 20s - 345ms/step - accuracy: 0.9826 - loss: 0.0585 - val_accuracy: 0.9843 - val_loss: 0.0508\n",
            "Epoch 12/25\n",
            "59/59 - 21s - 349ms/step - accuracy: 0.9836 - loss: 0.0560 - val_accuracy: 0.9827 - val_loss: 0.0532\n",
            "Epoch 13/25\n",
            "59/59 - 12s - 210ms/step - accuracy: 0.9847 - loss: 0.0517 - val_accuracy: 0.9855 - val_loss: 0.0491\n",
            "Epoch 14/25\n",
            "59/59 - 12s - 210ms/step - accuracy: 0.9855 - loss: 0.0485 - val_accuracy: 0.9850 - val_loss: 0.0460\n",
            "Epoch 15/25\n",
            "59/59 - 20s - 346ms/step - accuracy: 0.9864 - loss: 0.0462 - val_accuracy: 0.9853 - val_loss: 0.0476\n",
            "Epoch 16/25\n",
            "59/59 - 20s - 347ms/step - accuracy: 0.9865 - loss: 0.0444 - val_accuracy: 0.9855 - val_loss: 0.0444\n",
            "Epoch 17/25\n",
            "59/59 - 21s - 359ms/step - accuracy: 0.9876 - loss: 0.0418 - val_accuracy: 0.9873 - val_loss: 0.0402\n",
            "Epoch 18/25\n",
            "59/59 - 20s - 333ms/step - accuracy: 0.9884 - loss: 0.0392 - val_accuracy: 0.9884 - val_loss: 0.0387\n",
            "Epoch 19/25\n",
            "59/59 - 21s - 349ms/step - accuracy: 0.9884 - loss: 0.0383 - val_accuracy: 0.9873 - val_loss: 0.0400\n",
            "Epoch 20/25\n",
            "59/59 - 20s - 345ms/step - accuracy: 0.9891 - loss: 0.0367 - val_accuracy: 0.9871 - val_loss: 0.0423\n",
            "Epoch 21/25\n",
            "59/59 - 20s - 347ms/step - accuracy: 0.9897 - loss: 0.0349 - val_accuracy: 0.9874 - val_loss: 0.0377\n",
            "Epoch 22/25\n",
            "59/59 - 20s - 347ms/step - accuracy: 0.9899 - loss: 0.0340 - val_accuracy: 0.9886 - val_loss: 0.0358\n",
            "Epoch 23/25\n",
            "59/59 - 20s - 347ms/step - accuracy: 0.9897 - loss: 0.0334 - val_accuracy: 0.9884 - val_loss: 0.0385\n",
            "Epoch 24/25\n",
            "59/59 - 20s - 345ms/step - accuracy: 0.9908 - loss: 0.0314 - val_accuracy: 0.9877 - val_loss: 0.0389\n",
            "Epoch 25/25\n",
            "59/59 - 21s - 349ms/step - accuracy: 0.9908 - loss: 0.0296 - val_accuracy: 0.9875 - val_loss: 0.0359\n",
            "Accuracy: 0.987500011920929 \n",
            " Error: 1.2499988079071045\n"
          ]
        }
      ]
    },
    {
      "cell_type": "code",
      "source": [
        "# Create DataFrame\n",
        "data = {\n",
        "    'Model': ['CNN 1-1', 'CNN 2-2', 'CNN 2-2 +b', 'CNN 2-2 +b+e'],\n",
        "    'Accuracy': [scoresA[1], scoresB[1], scoresC[1], scoresD[1]]\n",
        "}\n",
        "df = pd.DataFrame(data)\n",
        "df['Error (%)'] = 100 - df['Accuracy'] * 100\n",
        "\n",
        "# Show table\n",
        "print(df)\n",
        "\n",
        "# Plot accuracy\n",
        "plt.figure(figsize=(8, 5))\n",
        "sns.barplot(data=df, x='Model', y='Accuracy', hue='Model', palette='Blues_d', legend=False)\n",
        "plt.title('Model Accuracy Comparison')\n",
        "plt.ylim(0.9, 1)\n",
        "plt.ylabel('Accuracy')\n",
        "plt.show()\n",
        "\n",
        "# Plot error\n",
        "plt.figure(figsize=(8, 5))\n",
        "sns.barplot(data=df, x='Model', y='Error (%)', hue='Model', palette='Reds_d', legend=False)\n",
        "plt.title('Model Error Comparison')\n",
        "plt.ylim(0, 3)\n",
        "plt.ylabel('Error (%)')\n",
        "plt.show()"
      ],
      "metadata": {
        "colab": {
          "base_uri": "https://localhost:8080/",
          "height": 1000
        },
        "id": "MBr4Gl5J5iwU",
        "outputId": "fdba8951-ba63-42e5-b1ec-03767ff9ce00"
      },
      "execution_count": 23,
      "outputs": [
        {
          "output_type": "stream",
          "name": "stdout",
          "text": [
            "          Model  Accuracy  Error (%)\n",
            "0       CNN 1-1    0.9876   1.239997\n",
            "1       CNN 2-2    0.9854   1.459998\n",
            "2    CNN 2-2 +b    0.9770   2.300000\n",
            "3  CNN 2-2 +b+e    0.9875   1.249999\n"
          ]
        },
        {
          "output_type": "display_data",
          "data": {
            "text/plain": [
              "<Figure size 800x500 with 1 Axes>"
            ],
            "image/png": "[encoded data removed]"
          },
          "metadata": {}
        },
        {
          "output_type": "display_data",
          "data": {
            "text/plain": [
              "<Figure size 800x500 with 1 Axes>"
            ],
            "image/png": "[encoded data removed]"
          },
          "metadata": {}
        }
      ]
    }
  ]
}