{
  "nbformat": 4,
  "nbformat_minor": 0,
  "metadata": {
    "colab": {
      "provenance": [],
      "authorship_tag": "ABX9TyM+frJDDZMnxBV7SGf+fVAG"
    },
    "kernelspec": {
      "name": "python3",
      "display_name": "Python 3"
    },
    "language_info": {
      "name": "python"
    }
  },
  "cells": [
    {
      "cell_type": "markdown",
      "source": [
        "# Neural Networks"
      ],
      "metadata": {
        "id": "H9H1ubn3Fpql"
      }
    },
    {
      "cell_type": "markdown",
      "source": [
        " We'll build a neural network from scratch, specifically focusing on how it makes predictions using forward propagation.\n",
        "\n",
        " Deep Learning libraries have the entire training and prediction processes implemented, so in practice, you wouldn't need to build a neural network from scratch. This exercise just gives you a clear understanding of how neural networks function under the hood."
      ],
      "metadata": {
        "id": "cXkrm0YMFwBH"
      }
    },
    {
      "cell_type": "markdown",
      "source": [
        "<img src=\"http://cocl.us/neural_network_example\" alt=\"Neural Network Example\" width=\"600px\">"
      ],
      "metadata": {
        "id": "6u2tkn6_Gt1n"
      }
    },
    {
      "cell_type": "code",
      "source": [
        "# Import Libraries\n",
        "\n",
        "import numpy as np"
      ],
      "metadata": {
        "id": "xNsv0MnEFqd0"
      },
      "execution_count": 1,
      "outputs": []
    },
    {
      "cell_type": "code",
      "execution_count": 3,
      "metadata": {
        "colab": {
          "base_uri": "https://localhost:8080/"
        },
        "id": "PM51vcRrFVaf",
        "outputId": "ad116c94-bbfa-4ab9-ae75-692132851194"
      },
      "outputs": [
        {
          "output_type": "stream",
          "name": "stdout",
          "text": [
            "[0.9  0.42 0.46 0.92 0.66 0.05]\n",
            "[0.06 0.34 0.42]\n"
          ]
        }
      ],
      "source": [
        "# Initialize weights and biases\n",
        "\n",
        "weights = np.around(np.random.uniform(size=6), decimals=2) # initialize the weights\n",
        "biases = np.around(np.random.uniform(size=3), decimals=2)  # initialize the biases\n",
        "\n",
        "print(weights)\n",
        "print(biases)"
      ]
    },
    {
      "cell_type": "markdown",
      "source": [
        "Compute the output for a given input, $x_1$ and $x_2$."
      ],
      "metadata": {
        "id": "pf76qe66HAsv"
      }
    },
    {
      "cell_type": "code",
      "source": [
        "# Give the inputs, x1 and x2.\n",
        "\n",
        "x_1 = 0.5 # input 1\n",
        "x_2 = 0.85 # input 2\n",
        "\n",
        "print('x1 is {} and x2 is {}'.format(x_1, x_2))"
      ],
      "metadata": {
        "colab": {
          "base_uri": "https://localhost:8080/"
        },
        "id": "s1YPN6xqHChC",
        "outputId": "73890e47-5467-46e3-ec90-419020d9be5c"
      },
      "execution_count": 4,
      "outputs": [
        {
          "output_type": "stream",
          "name": "stdout",
          "text": [
            "x1 is 0.5 and x2 is 0.85\n"
          ]
        }
      ]
    },
    {
      "cell_type": "code",
      "source": [
        "# Hidden Layer\n",
        "\n",
        "z_11 = x_1 * weights[0] + x_2 * weights[1] + biases[0]\n",
        "print('The weighted sum of the inputs at the first node in the hidden layer is {}'.format(z_11))\n",
        "\n",
        "z_12 = x_1 * weights[2] + x_2 * weights[3] + biases[1]\n",
        "print('The weighted sum of the inputs at the Second node in the hidden layer is {}'.format(z_12))"
      ],
      "metadata": {
        "colab": {
          "base_uri": "https://localhost:8080/"
        },
        "id": "BZqPGI-hHrit",
        "outputId": "632006c5-66f7-4e18-a0e2-6319165f2b62"
      },
      "execution_count": 7,
      "outputs": [
        {
          "output_type": "stream",
          "name": "stdout",
          "text": [
            "The weighted sum of the inputs at the first node in the hidden layer is 0.867\n",
            "The weighted sum of the inputs at the Second node in the hidden layer is 1.352\n"
          ]
        }
      ]
    },
    {
      "cell_type": "code",
      "source": [
        "# Compute the activation using a sigmoid activation function\n",
        "\n",
        "a_11 = 1.0 / (1.0 + np.exp(-z_11))\n",
        "print('The activation of the first node in the hidden layer is {}'.format(np.around(a_11, decimals=4)))\n",
        "\n",
        "a_12 = 1.0 / (1.0 + np.exp(-z_12))\n",
        "print('The activation of the first node in the hidden layer is {}'.format(np.around(a_12, decimals=4)))"
      ],
      "metadata": {
        "colab": {
          "base_uri": "https://localhost:8080/"
        },
        "id": "Lsq61d3nJauw",
        "outputId": "9ceb2f6e-20b8-41ae-f926-820c04bbe715"
      },
      "execution_count": 10,
      "outputs": [
        {
          "output_type": "stream",
          "name": "stdout",
          "text": [
            "The activation of the first node in the hidden layer is 0.7041\n",
            "The activation of the first node in the hidden layer is 0.7945\n"
          ]
        }
      ]
    },
    {
      "cell_type": "code",
      "source": [
        "# Compute the weighted sum of these inputs to the node in the output layer.\n",
        "\n",
        "z_2 = a_11 * weights[4] + a_12 * weights[5] + biases[2]\n",
        "print('The weighted sum of the inputs at the node in the output layer is {}'.format(np.around(z_2, decimals=4)))"
      ],
      "metadata": {
        "colab": {
          "base_uri": "https://localhost:8080/"
        },
        "id": "PWSBazvKLMpl",
        "outputId": "01447cf7-6441-42fc-d876-df9101616d52"
      },
      "execution_count": 12,
      "outputs": [
        {
          "output_type": "stream",
          "name": "stdout",
          "text": [
            "The weighted sum of the inputs at the node in the output layer is 0.9244\n"
          ]
        }
      ]
    },
    {
      "cell_type": "code",
      "source": [
        "# Compute the output of the network as the activation of the node in the output layer.\n",
        "\n",
        "a_2 = 1.0 / (1.0 + np.exp(-z_2))\n",
        "print('The output of the network for x1 = 0.5 and x2 = 0.85 is {}'.format(np.around(a_2, decimals=4)))"
      ],
      "metadata": {
        "colab": {
          "base_uri": "https://localhost:8080/"
        },
        "id": "N5dfXkrQKYN-",
        "outputId": "a735c938-6fd5-43b4-ef91-65b0ad755571"
      },
      "execution_count": 13,
      "outputs": [
        {
          "output_type": "stream",
          "name": "stdout",
          "text": [
            "The output of the network for x1 = 0.5 and x2 = 0.85 is 0.7159\n"
          ]
        }
      ]
    },
    {
      "cell_type": "markdown",
      "source": [
        "## Build a Neural Network"
      ],
      "metadata": {
        "id": "eSWMcjRKLuon"
      }
    },
    {
      "cell_type": "code",
      "source": [
        "# Define the structure of the network.\n",
        "\n",
        "n = 2 # number of inputs\n",
        "num_hidden_layers = 2 # number of hidden layers\n",
        "m = [2, 2] # number of nodes in each hidden layer\n",
        "num_nodes_output = 1 # number of nodes in the output layer"
      ],
      "metadata": {
        "id": "r-UrqI-oL12w"
      },
      "execution_count": 14,
      "outputs": []
    },
    {
      "cell_type": "code",
      "source": [
        "# Function to inititailize the weights and the biases in the network to random numbers.\n",
        "def initialize_network(num_inputs, num_hidden_layers, num_nodes_hidden, num_nodes_output):\n",
        "\n",
        "    num_nodes_previous = num_inputs # number of nodes in the previous layer\n",
        "\n",
        "    network = {}\n",
        "\n",
        "    # loop through each layer and randomly initialize the weights and biases associated with each layer\n",
        "    for layer in range(num_hidden_layers + 1):\n",
        "\n",
        "        if layer == num_hidden_layers:\n",
        "            layer_name = 'output' # name last layer in the network output\n",
        "            num_nodes = num_nodes_output\n",
        "        else:\n",
        "            layer_name = 'layer_{}'.format(layer + 1) # otherwise give the layer a number\n",
        "            num_nodes = num_nodes_hidden[layer]\n",
        "\n",
        "        # initialize weights and bias for each node\n",
        "        network[layer_name] = {}\n",
        "        for node in range(num_nodes):\n",
        "            node_name = 'node_{}'.format(node+1)\n",
        "            network[layer_name][node_name] = {\n",
        "                'weights': np.around(np.random.uniform(size=num_nodes_previous), decimals=2),\n",
        "                'bias': np.around(np.random.uniform(size=1), decimals=2),\n",
        "            }\n",
        "\n",
        "        num_nodes_previous = num_nodes\n",
        "\n",
        "    return network # return the network"
      ],
      "metadata": {
        "id": "b-NNnn6rMDjp"
      },
      "execution_count": 16,
      "outputs": []
    },
    {
      "cell_type": "code",
      "source": [
        "# Create a small network that:\n",
        "# takes 5 inputs\n",
        "# has three hidden layers\n",
        "# has 3 nodes in the first layer, 2 nodes in the second layer, and 3 nodes in the third layer\n",
        "# has 1 node in the output layer\n",
        "\n",
        "small_network = initialize_network(5, 3, [3, 2, 3], 1)"
      ],
      "metadata": {
        "id": "eyYls11fMud9"
      },
      "execution_count": 17,
      "outputs": []
    },
    {
      "cell_type": "code",
      "source": [
        "# Function to compute Weighted Sum at Each Node\n",
        "\n",
        "def compute_weighted_sum(inputs, weights, bias):\n",
        "    return np.sum(inputs * weights) + bias"
      ],
      "metadata": {
        "id": "hy7Ax2RwNCYx"
      },
      "execution_count": 18,
      "outputs": []
    },
    {
      "cell_type": "code",
      "source": [
        "# Generate 5 inputs that we can feed to small_network.\n",
        "\n",
        "from random import seed\n",
        "import numpy as np\n",
        "\n",
        "np.random.seed(12)\n",
        "inputs = np.around(np.random.uniform(size=5), decimals=2)\n",
        "\n",
        "print('The inputs to the network are {}'.format(inputs))"
      ],
      "metadata": {
        "colab": {
          "base_uri": "https://localhost:8080/"
        },
        "id": "yD4r_G6tNHJw",
        "outputId": "ad0a53f6-bb84-489c-d02a-0ba910f5a8f5"
      },
      "execution_count": 19,
      "outputs": [
        {
          "output_type": "stream",
          "name": "stdout",
          "text": [
            "The inputs to the network are [0.15 0.74 0.26 0.53 0.01]\n"
          ]
        }
      ]
    },
    {
      "cell_type": "code",
      "source": [
        "# Compute the weighted sum at the first node in the first hidden layer\n",
        "\n",
        "node_weights = small_network['layer_1']['node_1']['weights']\n",
        "node_bias = small_network['layer_1']['node_1']['bias']\n",
        "\n",
        "weighted_sum = compute_weighted_sum(inputs, node_weights, node_bias)\n",
        "print('The weighted sum at the first node in the hidden layer is {}'.format(np.around(weighted_sum[0], decimals=4)))"
      ],
      "metadata": {
        "colab": {
          "base_uri": "https://localhost:8080/"
        },
        "id": "4XZu7GZYNZ8t",
        "outputId": "b81c1044-0481-456b-ab2d-b7eb6649bafa"
      },
      "execution_count": 20,
      "outputs": [
        {
          "output_type": "stream",
          "name": "stdout",
          "text": [
            "The weighted sum at the first node in the hidden layer is 1.6405\n"
          ]
        }
      ]
    },
    {
      "cell_type": "code",
      "source": [
        "# A Function to compute Node Activation\n",
        "\n",
        "def node_activation(weighted_sum):\n",
        "    return 1.0 / (1.0 + np.exp(-1 * weighted_sum))"
      ],
      "metadata": {
        "id": "YRKiyohiNlNz"
      },
      "execution_count": 21,
      "outputs": []
    },
    {
      "cell_type": "code",
      "source": [
        "node_output  = node_activation(compute_weighted_sum(inputs, node_weights, node_bias))\n",
        "print('The output of the first node in the hidden layer is {}'.format(np.around(node_output[0], decimals=4)))\n"
      ],
      "metadata": {
        "colab": {
          "base_uri": "https://localhost:8080/"
        },
        "id": "IcwWaCnoN0yO",
        "outputId": "f3f84167-4e15-4d68-e28d-851b173ff07e"
      },
      "execution_count": 22,
      "outputs": [
        {
          "output_type": "stream",
          "name": "stdout",
          "text": [
            "The output of the first node in the hidden layer is 0.8376\n"
          ]
        }
      ]
    },
    {
      "cell_type": "markdown",
      "source": [
        "### Forward Propagation"
      ],
      "metadata": {
        "id": "c8S4DH6nN9SP"
      }
    },
    {
      "cell_type": "markdown",
      "source": [
        "1. Start with the input layer as the input to the first hidden layer.\n",
        "2. Compute the weighted sum at the nodes of the current layer.\n",
        "3. Compute the output of the nodes of the current layer.\n",
        "4. Set the output of the current layer to be the input to the next layer.\n",
        "5. Move to the next layer in the network.\n",
        "6. Repeat steps 2 - 5 until we compute the output of the output layer."
      ],
      "metadata": {
        "id": "gaGet0QmOMFP"
      }
    },
    {
      "cell_type": "code",
      "source": [
        "def forward_propagate(network, inputs):\n",
        "\n",
        "    layer_inputs = list(inputs) # start with the input layer as the input to the first hidden layer\n",
        "\n",
        "    for layer in network:\n",
        "\n",
        "        layer_data = network[layer]\n",
        "\n",
        "        layer_outputs = []\n",
        "        for layer_node in layer_data:\n",
        "\n",
        "            node_data = layer_data[layer_node]\n",
        "\n",
        "            # compute the weighted sum and the output of each node at the same time\n",
        "            node_output = node_activation(compute_weighted_sum(layer_inputs, node_data['weights'], node_data['bias']))\n",
        "            layer_outputs.append(np.around(node_output[0], decimals=4))\n",
        "\n",
        "        if layer != 'output':\n",
        "            print('The outputs of the nodes in hidden layer number {} is {}'.format(layer.split('_')[1], layer_outputs))\n",
        "\n",
        "        layer_inputs = layer_outputs # set the output of this layer to be the input to next layer\n",
        "\n",
        "    network_predictions = layer_outputs\n",
        "    return network_predictions"
      ],
      "metadata": {
        "id": "OWiF4FmSOO_t"
      },
      "execution_count": 23,
      "outputs": []
    },
    {
      "cell_type": "code",
      "source": [
        "predictions = forward_propagate(small_network, inputs)\n",
        "print('The predicted value by the network for the given input is {}'.format(np.around(predictions[0], decimals=4)))"
      ],
      "metadata": {
        "colab": {
          "base_uri": "https://localhost:8080/"
        },
        "id": "2iYy72dqOZyC",
        "outputId": "35ae36a3-1e6f-49e1-bfd8-1ac86c4718d1"
      },
      "execution_count": 24,
      "outputs": [
        {
          "output_type": "stream",
          "name": "stdout",
          "text": [
            "The outputs of the nodes in hidden layer number 1 is [np.float64(0.8376), np.float64(0.8603), np.float64(0.8615)]\n",
            "The outputs of the nodes in hidden layer number 2 is [np.float64(0.8766), np.float64(0.855)]\n",
            "The outputs of the nodes in hidden layer number 3 is [np.float64(0.7275), np.float64(0.665), np.float64(0.8073)]\n",
            "The predicted value by the network for the given input is 0.7811\n"
          ]
        }
      ]
    }
  ]
}